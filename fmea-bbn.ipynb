{
 "cells": [
  {
   "cell_type": "code",
   "execution_count": 1,
   "metadata": {},
   "outputs": [],
   "source": [
    "import pandas as pd\n",
    "import numpy as np"
   ]
  },
  {
   "cell_type": "code",
   "execution_count": 2,
   "metadata": {},
   "outputs": [],
   "source": [
    "file_name = 'fmea-bbn-2.xls'\n",
    "bbn = pd.read_excel(file_name, sheet_name='BBN')"
   ]
  },
  {
   "cell_type": "code",
   "execution_count": 3,
   "metadata": {},
   "outputs": [],
   "source": [
    "pl = np.zeros((5,5,5))\n",
    "pm = np.zeros((5,5,5))\n",
    "ph = np.zeros((5,5,5))"
   ]
  },
  {
   "cell_type": "code",
   "execution_count": 4,
   "metadata": {},
   "outputs": [],
   "source": [
    "bbn = bbn[['L', 'M', 'H']]\n",
    "bbn = bbn.values"
   ]
  },
  {
   "cell_type": "code",
   "execution_count": 5,
   "metadata": {},
   "outputs": [],
   "source": [
    "ii = 0\n",
    "for i in range(0,5):\n",
    "    for j in range(0,5):\n",
    "        for k in range(0,5):\n",
    "            pl[i,j,k] = bbn[ii][0]\n",
    "            pm[i,j,k] = bbn[ii][1]\n",
    "            ph[i,j,k] = bbn[ii][2]\n",
    "            ii = ii +1"
   ]
  },
  {
   "cell_type": "code",
   "execution_count": 6,
   "metadata": {},
   "outputs": [],
   "source": [
    "def calc_risk (factors, risks):\n",
    "    for fs in factors:\n",
    "        try:\n",
    "            fl = pd.read_excel(file_name, sheet_name= fs)\n",
    "        except:\n",
    "            break\n",
    "        S = fl[['s1','s2','s3','s4','s5']]\n",
    "        S=S.values\n",
    "        O = fl[['o1','o2','o3','o4','o5']]\n",
    "        O=O.values\n",
    "        D = fl[['d1','d2','d3','d4','d5']]\n",
    "        D=D.values\n",
    "        num_rows, num_cols = fl.shape\n",
    "        r = np.zeros((num_rows,3))\n",
    "        for f in range(0,num_rows):\n",
    "            for i in range(0,5):\n",
    "                for j in range(0,5):\n",
    "                    for k in range(0,5):\n",
    "                        r[f][0] = r[f][0] + pl[i,j,k]*S[f][i]*O[f][j]*D[f][k]\n",
    "                        r[f][1] = r[f][1] + pm[i,j,k]*S[f][i]*O[f][j]*D[f][k]\n",
    "                        r[f][2] = r[f][2] + ph[i,j,k]*S[f][i]*O[f][j]*D[f][k]\n",
    "        output_file_name = fs + '.csv'\n",
    "        np.savetxt(output_file_name, r, delimiter=\",\")\n",
    "        new_level = fl['factor'].tolist()\n",
    "        calc_risk (new_level, r)"
   ]
  },
  {
   "cell_type": "code",
   "execution_count": 7,
   "metadata": {},
   "outputs": [],
   "source": [
    "calc_risk (['F'],[[1,1,1]])"
   ]
  },
  {
   "cell_type": "code",
   "execution_count": null,
   "metadata": {},
   "outputs": [],
   "source": []
  }
 ],
 "metadata": {
  "kernelspec": {
   "display_name": "Python 3",
   "language": "python",
   "name": "python3"
  },
  "language_info": {
   "codemirror_mode": {
    "name": "ipython",
    "version": 3
   },
   "file_extension": ".py",
   "mimetype": "text/x-python",
   "name": "python",
   "nbconvert_exporter": "python",
   "pygments_lexer": "ipython3",
   "version": "3.6.9"
  }
 },
 "nbformat": 4,
 "nbformat_minor": 4
}
